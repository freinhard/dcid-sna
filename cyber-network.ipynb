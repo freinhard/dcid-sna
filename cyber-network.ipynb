{
 "cells": [
  {
   "cell_type": "markdown",
   "metadata": {},
   "source": [
    "Dataset: https://drryanmaness.wixsite.com/cyberconflict/cyber-conflict-dataset\n",
    "\n",
    "- States: A, B\n",
    "- Cyber incidents: A (initiator) -> B (target)\n",
    "- Dyadic dataset: A <-> B"
   ]
  },
  {
   "cell_type": "code",
   "execution_count": null,
   "metadata": {},
   "outputs": [],
   "source": [
    "import pandas as pd"
   ]
  },
  {
   "cell_type": "code",
   "execution_count": null,
   "metadata": {},
   "outputs": [],
   "source": [
    "file_path = 'data/DCID.csv'\n",
    "dcid = pd.read_csv(file_path)\n",
    "print(dcid.head())\n",
    "\n",
    "# cow_contries = pd.read_csv('data/COW-country-codes.csv')"
   ]
  },
  {
   "cell_type": "code",
   "execution_count": null,
   "metadata": {},
   "outputs": [],
   "source": [
    "cow_countries = pd.read_csv('data/COW-country-codes.csv')\n",
    "\n",
    "dcid = dcid.merge(cow_countries, left_on='initiator', right_on='CCode', how='left')\n",
    "dcid = dcid.merge(cow_countries, left_on='target', right_on='CCode', how='left')\n",
    "\n",
    "# USA = 2\n",
    "# RUS = 365\n",
    "\n",
    "dcid.rename(columns={'StateAbb_x': 'initiator_iso'}, inplace=True)\n",
    "dcid.rename(columns={'StateAbb_y': 'target_iso'}, inplace=True)\n",
    "\n",
    "dcid = dcid[['initiator_iso', 'target_iso']]\n",
    "\n",
    "print(dcid.head())"
   ]
  },
  {
   "cell_type": "code",
   "execution_count": null,
   "metadata": {},
   "outputs": [],
   "source": [
    "adjacency_matrix = pd.pivot_table(dcid, index='initiator_iso', columns='target_iso', aggfunc=len, fill_value=0)\n",
    "print(adjacency_matrix)\n"
   ]
  },
  {
   "cell_type": "code",
   "execution_count": null,
   "metadata": {},
   "outputs": [],
   "source": [
    "# adjacency_matrix.to_csv('adjacency_matrix.csv', index=True)\n"
   ]
  },
  {
   "cell_type": "code",
   "execution_count": null,
   "metadata": {},
   "outputs": [],
   "source": [
    "import networkx as nx\n",
    "from matplotlib import pyplot as plt\n",
    "\n",
    "G = nx.DiGraph(adjacency_matrix)\n",
    "\n",
    "G = nx.DiGraph()\n",
    "G.add_edges_from(dcid.values)\n",
    "\n",
    "plt.figure(figsize=(12, 6))\n",
    "nx.draw(G, with_labels=True, node_color='lightblue', edge_color='gray', font_weight='bold')\n",
    "plt.show()\n"
   ]
  },
  {
   "cell_type": "code",
   "execution_count": null,
   "metadata": {},
   "outputs": [],
   "source": [
    "centrality = nx.eigenvector_centrality(G)\n",
    "centrality = pd.DataFrame(centrality.items(), columns=['Country', 'Centrality'])\n",
    "centrality = centrality.sort_values(by='Centrality', ascending=False)\n",
    "print(centrality)\n"
   ]
  }
 ],
 "metadata": {
  "kernelspec": {
   "display_name": "venv",
   "language": "python",
   "name": "python3"
  },
  "language_info": {
   "codemirror_mode": {
    "name": "ipython",
    "version": 3
   },
   "file_extension": ".py",
   "mimetype": "text/x-python",
   "name": "python",
   "nbconvert_exporter": "python",
   "pygments_lexer": "ipython3",
   "version": "3.12.2"
  }
 },
 "nbformat": 4,
 "nbformat_minor": 2
}
